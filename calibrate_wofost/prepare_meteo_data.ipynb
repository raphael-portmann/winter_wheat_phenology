{
 "cells": [
  {
   "attachments": {},
   "cell_type": "markdown",
   "metadata": {},
   "source": [
    "Prepare meteorological data for WOFOST calibration"
   ]
  },
  {
   "cell_type": "code",
   "execution_count": 24,
   "metadata": {},
   "outputs": [],
   "source": [
    "import pandas as pd\n",
    "import xarray as xr\n",
    "from pyproj import Transformer\n",
    "import numpy as np\n",
    "import datetime\n",
    "from math import cos, sin, asin, pi, radians\n",
    "import geopandas as gpd\n",
    "\n",
    "def read_data_Fossati(datadir):\n",
    "    \n",
    "    \"\"\" Read data from Dario Fossati for further use. \n",
    "    - Change \"Harvestyear\" to \"year\"\n",
    "    \"\"\"\n",
    "    \n",
    "    ###### Dario Fossati data\n",
    "    \n",
    "    # read phenology data for wheat\n",
    "    data_Fossati = pd.read_csv(datadir, delimiter=';', header=0, encoding=\"ISO-8859-1\")\n",
    "    # rename\n",
    "    data_Fossati = data_Fossati.rename(columns={\"Harvestyear\": \"year\"})\n",
    "\n",
    "    return data_Fossati\n",
    "\n",
    "def plz_to_lonlatxy(PLZ,plzdata):\n",
    "   \n",
    "    \"\"\" Get coordinates based on PLZ (coordinates of community centres, in future could use centre of polygon as for damage claim data!)\n",
    "    Parameters\n",
    "    -----------\n",
    "        PLZ: int\n",
    "                PLZ to transform in lat lon\n",
    "    Returns\n",
    "    ----------\n",
    "        lat: latitude\n",
    "        lon: longitude\n",
    "        x: x-coordinate (LV95)\n",
    "        y: y-coordinate (LV95)\n",
    "        \n",
    "        \"\"\"\n",
    "        \n",
    "    #read plzdata\n",
    "    plz = pd.read_csv(plzdata,delimiter=',',header=0)\n",
    "\n",
    "    #get EPSG2056 coords\n",
    "    X=plz.loc[plz['PLZ']==PLZ]['X'].values[0]\n",
    "    Y=plz.loc[plz['PLZ']==PLZ]['Y'].values[0]\n",
    "    \n",
    "    #change projection to lat lon   \n",
    "    transformer = Transformer.from_crs(\"epsg:2056\", \"epsg:4326\",always_xy=True)\n",
    "    lon,lat=transformer.transform(X,Y)\n",
    "    \n",
    "    return lon,lat,X,Y\n",
    "\n",
    "\n",
    "def get_MCH_data_lat_lon(startyear,endyear,variables,datadir,lat=None,lon=None,X=None,Y=None):\n",
    "\n",
    "    \"\"\" Prepare Meteo Swiss data for WOFOST runs or run of phenology model\n",
    "    \n",
    "    Parameters\n",
    "    ----------\n",
    "        startyear: int\n",
    "            startyear\n",
    "        endyear: int\n",
    "            endyear\n",
    "        variables: list of strings\n",
    "            list with variables to load\n",
    "        lat: float\n",
    "            latitude in degrees\n",
    "        lon: float\n",
    "            longiude in degrees\n",
    "        X: X coordinate in LV95\n",
    "        Y: Y coordinate in LV95\n",
    "        \n",
    "\n",
    "    Returns\n",
    "    ----------            \n",
    "       xarray.Dataset with variables at requested coordinate\n",
    "    \"\"\"\n",
    "    if X and Y:\n",
    "        print('Use LV95 coordinate system....')\n",
    "    elif lat and lon:\n",
    "        #make transformation\n",
    "        print('transform lat lon to L95 coordinate system...')\n",
    "        WGS84_to_LV95 = Transformer.from_crs(\"epsg:4326\",\"epsg:2056\",always_xy=True)\n",
    "        X,Y=WGS84_to_LV95.transform(xx=lon,yy=lat)\n",
    "    else:\n",
    "        raise ValueError(\"really not enough coordinates specified.\")\n",
    "         \n",
    "        \n",
    "    startyear = int(startyear)\n",
    "    endyear = int(endyear)\n",
    "\n",
    "    time_series_list=[]\n",
    "    \n",
    "    for var in variables:\n",
    "   \n",
    "        #get list of datafiles #1961-2022\n",
    "        datafiles=[datadir+str(var)+'D_ch01r.swiss.lv95_'+str(year)+'01010000_'+str(year)+'12310000.nc' for year in range(startyear,endyear+1)]\n",
    "        #read datafiles\n",
    "        print('reading data from {}...'.format(datadir))\n",
    "        data=xr.open_mfdataset(datafiles,concat_dim = 'time',combine='nested',coords = 'minimal')\n",
    "        \n",
    "        #get data at lat lon\n",
    "        time_series_list.append(data.sel(E=X,N=Y,method='nearest'))\n",
    "\n",
    "    data_out=xr.merge(time_series_list)      \n",
    "\n",
    "    return data_out"
   ]
  },
  {
   "attachments": {},
   "cell_type": "markdown",
   "metadata": {},
   "source": [
    "First, define directories of phenological data, and data linking PLZ and coordinates, start and end year, variables (here Tmin and Tmax) and directory to store the data"
   ]
  },
  {
   "cell_type": "code",
   "execution_count": 26,
   "metadata": {},
   "outputs": [],
   "source": [
    "#produce MCH Data (comment if already done so)\n",
    "#read plzdata\n",
    "datadir_PLZ = 'C:/Users/F80840370/projects/scClim/wofost/PhenoSwiss/calib_data/PLZ_coordinates.txt'\n",
    "datadir_Phenology = 'C:/Users/F80840370/projects/scClim/wofost/PhenoSwiss/calib_data/Phenologie_Fossati_put_together_00_18.csv'\n",
    "datadir_MCH='O:/Data-Raw/27_Natural_Resources-RE/99_Meteo_Public/MeteoSwiss_netCDF/__griddedData/lv95/'\n",
    "OUTDIR='C:/Users/F80840370/projects/scClim/climada/wofost/PhenoSwiss/calib_data/TminTmax_PLZ/'\n",
    "\n",
    "startyear=1999\n",
    "endyear=2021\n",
    "variables=['Tmin','Tmax']\n",
    "filename_base='TminTmax_daily_{}_{}'.format(startyear,endyear)"
   ]
  },
  {
   "attachments": {},
   "cell_type": "markdown",
   "metadata": {},
   "source": [
    "Then create the daily time series for each PLZ in the phenological dataset and store it - takes some time"
   ]
  },
  {
   "cell_type": "code",
   "execution_count": 27,
   "metadata": {},
   "outputs": [
    {
     "name": "stdout",
     "output_type": "stream",
     "text": [
      "Use LV95 coordinate system....\n",
      "reading data from O:/Data-Raw/27_Natural_Resources-RE/99_Meteo_Public/MeteoSwiss_netCDF/__griddedData/lv95/...\n"
     ]
    }
   ],
   "source": [
    "all_pheno_data=read_data_Fossati(datadir_Phenology)\n",
    "for plz in list(set(all_pheno_data['PLZ'])):\n",
    "      lon,lat,X,Y=plz_to_lonlatxy(plz,plzdata)\n",
    "      filename=filename_base+'_{}'.format(plz)\n",
    "      data_mch=get_MCH_data_lat_lon(startyear, endyear, variables, datadir_MCH, X=X,Y=Y)\n",
    "      filename='TminTmax_daily_{}_{}_{}'.format(startyear,endyear,plz)\n",
    "      data_mch.to_netcdf(OUTDIR+filename+'.nc')\n",
    "      data_df=data_mch.to_dataframe()\n",
    "      data_df.to_excel(OUTDIR+filename+'.xlsx')"
   ]
  },
  {
   "attachments": {},
   "cell_type": "markdown",
   "metadata": {},
   "source": [
    "Voilá, you are ready to calibrate."
   ]
  }
 ],
 "metadata": {
  "kernelspec": {
   "display_name": "climada_env_3.9",
   "language": "python",
   "name": "python3"
  },
  "language_info": {
   "codemirror_mode": {
    "name": "ipython",
    "version": 3
   },
   "file_extension": ".py",
   "mimetype": "text/x-python",
   "name": "python",
   "nbconvert_exporter": "python",
   "pygments_lexer": "ipython3",
   "version": "3.9.16"
  },
  "orig_nbformat": 4
 },
 "nbformat": 4,
 "nbformat_minor": 2
}
