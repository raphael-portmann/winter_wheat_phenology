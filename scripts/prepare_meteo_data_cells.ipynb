{
 "cells": [
  {
   "attachments": {},
   "cell_type": "markdown",
   "metadata": {},
   "source": [
    "##Prepare meteorological data for WOFOST run on gridded data\n",
    "\n",
    "This notebook reads MeteoSwiss climate data [Tmin, Tmax](https://www.meteoswiss.admin.ch/dam/jcr:818a4d17-cb0c-4e8b-92c6-1a1bdf5348b7/ProdDoc_TabsD.pdf) and agricultural exposure data (or the spatial_units.gpkg file) as described in [Portmann et al. 2023](https://egusphere.copernicus.org/preprints/2023/egusphere-2023-2598/) and produces one .csv file for each meteorological variable with time as rows and grid cell IDs (of all 1x1km grid cells with exposure) as columns."
   ]
  },
  {
   "cell_type": "code",
   "execution_count": 1,
   "metadata": {},
   "outputs": [],
   "source": [
    "import pandas as pd\n",
    "import xarray as xr\n",
    "import numpy as np\n",
    "import geopandas as gpd\n",
    "import os"
   ]
  },
  {
   "attachments": {},
   "cell_type": "markdown",
   "metadata": {},
   "source": [
    "First, define directories of gridded exposure data (polygons), the MeteoSwiss data and the directory to store the output data"
   ]
  },
  {
   "cell_type": "code",
   "execution_count": 2,
   "metadata": {},
   "outputs": [],
   "source": [
    "#produce MCH Data (comment if already done so)\n",
    "\n",
    "#INPUT DATA\n",
    "datadir_MCH='O:/Data-Raw/27_Natural_Resources-RE/99_Meteo_Public/MeteoSwiss_netCDF/__griddedData/lv95/'\n",
    "datadir_exposure='C:/Users/F80840370/projects/scClim/climada/data/scClim/exposure/GIS/Weizen_Mais_Raps_Gerste_polygons.gpkg'\n",
    "\n",
    "#OUTPUT DATA\n",
    "OUTDIR='C:/Users/F80840370/projects/scClim/wofost/winter_wheat_phenology/meteo_data/MeteoSwiss/'\n",
    "\n",
    "startyear=1971\n",
    "endyear=2021\n",
    "variables=['TminD','TmaxD']\n",
    "filename_base='TminTmax_daily_{}_{}'.format(startyear,endyear)"
   ]
  },
  {
   "attachments": {},
   "cell_type": "markdown",
   "metadata": {},
   "source": [
    "Create spatial units file from exposure or just read it if it is there"
   ]
  },
  {
   "cell_type": "code",
   "execution_count": 3,
   "metadata": {},
   "outputs": [],
   "source": [
    "#create from exposure\n",
    "units=gpd.read_file(datadir_exposure)\n",
    "units=units[units.n_fields>0]\n",
    "units_lv95=units.to_crs(crs=2056)\n",
    "units_lv95['X']=np.round(units_lv95.centroid.x)\n",
    "units_lv95['Y']=np.round(units_lv95.centroid.y)\n",
    "units_lv95['ID']=units_lv95.index\n",
    "#save\n",
    "units_lv95.to_file(\"spatial_units.gpkg\", driver=\"GPKG\")\n",
    "#read\n",
    "#units_lv95.from_file(\"spatial_units.gpkg\", driver=\"GPKG\")"
   ]
  },
  {
   "attachments": {},
   "cell_type": "markdown",
   "metadata": {},
   "source": [
    "Read gridded MeteoSwiss Climate Data from Agroscope Server. Make sure to use .load() to load the data into memory. Otherwise subsequent computations may take a long time. This step takes quite some time (up to 1h is to be expected)"
   ]
  },
  {
   "cell_type": "code",
   "execution_count": 41,
   "metadata": {},
   "outputs": [
    {
     "data": {
      "text/plain": [
       "147475    2484500.0\n",
       "147476    2484500.0\n",
       "147477    2484500.0\n",
       "148112    2485500.0\n",
       "148116    2485500.0\n",
       "            ...    \n",
       "351650    2803500.0\n",
       "351651    2803500.0\n",
       "354204    2807500.0\n",
       "363869    2822500.0\n",
       "365790    2825500.0\n",
       "Name: X, Length: 12742, dtype: float64"
      ]
     },
     "execution_count": 41,
     "metadata": {},
     "output_type": "execute_result"
    }
   ],
   "source": [
    "#get list of datafiles #1961-2022\n",
    "mch_data={}\n",
    "for var in variables:\n",
    "    datafiles=[datadir_MCH+str(var)+'_ch01r.swiss.lv95_'+str(year)+'01010000_'+str(year)+'12310000.nc' for year in range(startyear,endyear+1)]\n",
    "    #read datafiles\n",
    "    print('reading data for {} from {}...'.format(var,datadir_MCH))\n",
    "    mch_data[var]=xr.open_mfdataset(datafiles,concat_dim = 'time',combine='nested',coords = 'minimal')\n",
    "    #to be able to later run this quickly we need to load the dataset\n",
    "    mch_data[var].load()"
   ]
  },
  {
   "attachments": {},
   "cell_type": "markdown",
   "metadata": {},
   "source": [
    "For each variable read MeteoSwiss data and create for each variable a DataFrame with time as column and spatial units (ID) as rows. Write one file per variable for all years"
   ]
  },
  {
   "cell_type": "code",
   "execution_count": 30,
   "metadata": {},
   "outputs": [
    {
     "data": {
      "text/plain": [
       "147475    147475\n",
       "147476    147476\n",
       "147477    147477\n",
       "148112    148112\n",
       "148116    148116\n",
       "           ...  \n",
       "351650    351650\n",
       "351651    351651\n",
       "354204    354204\n",
       "363869    363869\n",
       "365790    365790\n",
       "Name: ID, Length: 12742, dtype: int64"
      ]
     },
     "execution_count": 30,
     "metadata": {},
     "output_type": "execute_result"
    }
   ],
   "source": [
    "for var in variables:\n",
    "      datalist=[pd.Dataframe({'time': mch_data[var].time.values})]\n",
    "      for ind in units_lv95.index:\n",
    "            X=units_lv95.iloc[ind].X\n",
    "            Y=units_lv95.iloc[ind].Y\n",
    "            ID=units_lv95.iloc[ind].ID\n",
    "            data=mch_data[var].sel(E=X,N=Y,method='nearest')\n",
    "            datalist.append=pd.Dataframe({ID: data[var].values})\n",
    "            \n",
    "      df_out=pd.concat(datalist,axis=1)\n",
    "      filename='{}_{}_{}'.format(var,startyear,endyear)\n",
    "      df_out.to_csv(OUTDIR+filename+'.csv')\n"
   ]
  },
  {
   "attachments": {},
   "cell_type": "markdown",
   "metadata": {},
   "source": [
    "Voilá, you are ready to run wofost"
   ]
  },
  {
   "cell_type": "code",
   "execution_count": 10,
   "metadata": {},
   "outputs": [],
   "source": [
    "with open('test.txt') as src:\n",
    "    bla=src.read()"
   ]
  },
  {
   "cell_type": "code",
   "execution_count": 12,
   "metadata": {},
   "outputs": [
    {
     "data": {
      "text/plain": [
       "['1234']"
      ]
     },
     "execution_count": 12,
     "metadata": {},
     "output_type": "execute_result"
    }
   ],
   "source": [
    "bla.split()"
   ]
  }
 ],
 "metadata": {
  "kernelspec": {
   "display_name": "climada_env_3.9",
   "language": "python",
   "name": "python3"
  },
  "language_info": {
   "codemirror_mode": {
    "name": "ipython",
    "version": 3
   },
   "file_extension": ".py",
   "mimetype": "text/x-python",
   "name": "python",
   "nbconvert_exporter": "python",
   "pygments_lexer": "ipython3",
   "version": "3.9.16"
  },
  "orig_nbformat": 4
 },
 "nbformat": 4,
 "nbformat_minor": 2
}
