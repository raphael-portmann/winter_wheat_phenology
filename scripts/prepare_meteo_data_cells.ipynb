{
 "cells": [
  {
   "attachments": {},
   "cell_type": "markdown",
   "metadata": {},
   "source": [
    "Prepare meteorological data for WOFOST run on MCH gridded data"
   ]
  },
  {
   "cell_type": "code",
   "execution_count": 1,
   "metadata": {},
   "outputs": [],
   "source": [
    "import pandas as pd\n",
    "import xarray as xr\n",
    "from pyproj import Transformer\n",
    "import numpy as np\n",
    "import datetime\n",
    "from math import cos, sin, asin, pi, radians\n",
    "import geopandas as gpd\n",
    "import os\n",
    "\n",
    "def get_MCH_data_lat_lon(startyear,endyear,variables,datadir,lat=None,lon=None,X=None,Y=None):\n",
    "\n",
    "    \"\"\" Prepare Meteo Swiss data for WOFOST runs or run of phenology model\n",
    "    \n",
    "    Parameters\n",
    "    ----------\n",
    "        startyear: int\n",
    "            startyear\n",
    "        endyear: int\n",
    "            endyear\n",
    "        variables: list of strings\n",
    "            list with variables to load\n",
    "        lat: float\n",
    "            latitude in degrees\n",
    "        lon: float\n",
    "            longiude in degrees\n",
    "        X: X coordinate in LV95\n",
    "        Y: Y coordinate in LV95\n",
    "        \n",
    "\n",
    "    Returns\n",
    "    ----------            \n",
    "       xarray.Dataset with variables at requested coordinate\n",
    "    \"\"\"\n",
    "    if X and Y:\n",
    "        print('Use LV95 coordinate system....')\n",
    "    elif lat and lon:\n",
    "        #make transformation\n",
    "        print('transform lat lon to L95 coordinate system...')\n",
    "        WGS84_to_LV95 = Transformer.from_crs(\"epsg:4326\",\"epsg:2056\",always_xy=True)\n",
    "        X,Y=WGS84_to_LV95.transform(xx=lon,yy=lat)\n",
    "    else:\n",
    "        raise ValueError(\"really not enough coordinates specified.\")\n",
    "         \n",
    "        \n",
    "    startyear = int(startyear)\n",
    "    endyear = int(endyear)\n",
    "\n",
    "    time_series_list=[]\n",
    "    \n",
    "    for var in variables:\n",
    "   \n",
    "        #get list of datafiles #1961-2022\n",
    "        datafiles=[datadir+str(var)+'D_ch01r.swiss.lv95_'+str(year)+'01010000_'+str(year)+'12310000.nc' for year in range(startyear,endyear+1)]\n",
    "        #read datafiles\n",
    "        print('reading data from {}...'.format(datadir))\n",
    "        data=xr.open_mfdataset(datafiles,concat_dim = 'time',combine='nested',coords = 'minimal')\n",
    "        \n",
    "        #get data at lat lon\n",
    "        time_series_list.append(data.sel(E=X,N=Y,method='nearest'))\n",
    "\n",
    "    data_out=xr.merge(time_series_list)      \n",
    "\n",
    "    return data_out"
   ]
  },
  {
   "attachments": {},
   "cell_type": "markdown",
   "metadata": {},
   "source": [
    "First, define directories of gridded exposure data (polygons), the MeteoSwiss data and the directory to store the output data"
   ]
  },
  {
   "cell_type": "code",
   "execution_count": 2,
   "metadata": {},
   "outputs": [],
   "source": [
    "#produce MCH Data (comment if already done so)\n",
    "\n",
    "#INPUT DATA\n",
    "datadir_MCH='O:/Data-Raw/27_Natural_Resources-RE/99_Meteo_Public/MeteoSwiss_netCDF/__griddedData/lv95/'\n",
    "datadir_exposure='C:/Users/F80840370/projects/scClim/climada/data/scClim/exposure/GIS/Weizen_Mais_Raps_Gerste_polygons.gpkg'\n",
    "cwd = os.getcwd()\n",
    "\n",
    "#OUTPUT DATA\n",
    "OUTDIR='C:/Users/F80840370/projects/scClim/climada/data/scClim/exposure/phenology/TminTmax_grid/MeteoSwiss/'\n",
    "\n",
    "startyear=1972\n",
    "endyear=2022\n",
    "variables=['TminD','TmaxD']\n",
    "filename_base='TminTmax_daily_{}_{}'.format(startyear,endyear)"
   ]
  },
  {
   "cell_type": "code",
   "execution_count": 3,
   "metadata": {},
   "outputs": [],
   "source": [
    "units=gpd.read_file(datadir_exposure)\n",
    "units=units[units.n_fields>0]\n",
    "units_lv95=units.to_crs(crs=2056)\n",
    "units_lv95['X']=np.round(units_lv95.centroid.x)\n",
    "units_lv95['Y']=np.round(units_lv95.centroid.y)"
   ]
  },
  {
   "cell_type": "code",
   "execution_count": 4,
   "metadata": {},
   "outputs": [],
   "source": [
    "units_lv95['ID']=units_lv95.index\n"
   ]
  },
  {
   "cell_type": "code",
   "execution_count": 7,
   "metadata": {},
   "outputs": [],
   "source": [
    "units_lv95.to_file(\"spatial_units.gpkg\", driver=\"GPKG\")"
   ]
  },
  {
   "attachments": {},
   "cell_type": "markdown",
   "metadata": {},
   "source": [
    "Read gridded MeteoSwiss Climate Data from Agroscope Server"
   ]
  },
  {
   "cell_type": "code",
   "execution_count": 41,
   "metadata": {},
   "outputs": [
    {
     "data": {
      "text/plain": [
       "147475    2484500.0\n",
       "147476    2484500.0\n",
       "147477    2484500.0\n",
       "148112    2485500.0\n",
       "148116    2485500.0\n",
       "            ...    \n",
       "351650    2803500.0\n",
       "351651    2803500.0\n",
       "354204    2807500.0\n",
       "363869    2822500.0\n",
       "365790    2825500.0\n",
       "Name: X, Length: 12742, dtype: float64"
      ]
     },
     "execution_count": 41,
     "metadata": {},
     "output_type": "execute_result"
    }
   ],
   "source": [
    "#get list of datafiles #1961-2022\n",
    "mch_data={}\n",
    "for var in variables:\n",
    "    datafiles=[datadir_MCH+str(var)+'_ch01r.swiss.lv95_'+str(year)+'01010000_'+str(year)+'12310000.nc' for year in range(startyear,endyear+1)]\n",
    "    #read datafiles\n",
    "    print('reading data for {} from {}...'.format(var,datadir_MCH))\n",
    "    mch_data[var]=xr.open_mfdataset(datafiles,concat_dim = 'time',combine='nested',coords = 'minimal')\n"
   ]
  },
  {
   "attachments": {},
   "cell_type": "markdown",
   "metadata": {},
   "source": [
    "For each variable read MeteoSwiss data and create for each variable a DataFrame with time as column and spatial units (ID) as rows. Write one file per variable"
   ]
  },
  {
   "cell_type": "code",
   "execution_count": 30,
   "metadata": {},
   "outputs": [
    {
     "data": {
      "text/plain": [
       "147475    147475\n",
       "147476    147476\n",
       "147477    147477\n",
       "148112    148112\n",
       "148116    148116\n",
       "           ...  \n",
       "351650    351650\n",
       "351651    351651\n",
       "354204    354204\n",
       "363869    363869\n",
       "365790    365790\n",
       "Name: ID, Length: 12742, dtype: int64"
      ]
     },
     "execution_count": 30,
     "metadata": {},
     "output_type": "execute_result"
    }
   ],
   "source": [
    "for var in variables:\n",
    "      df_out=pd.DataFrame({'time': mch_data.time.values})\n",
    "      for unit in units_lv95:\n",
    "      \n",
    "            data=mch_data[var].sel(E=units_lv95.X,N=units_lv95.Y,method='nearest')\n",
    "            df_out[unit.ID]=list(data.values)\n",
    "\n",
    "      filename='{}_{}_{}'.format(var,startyear,endyear)\n",
    "      df_out.to_csv(OUTDIR+filename+'.csv')\n"
   ]
  },
  {
   "cell_type": "code",
   "execution_count": 23,
   "metadata": {},
   "outputs": [
    {
     "data": {
      "text/html": [
       "<div>\n",
       "<style scoped>\n",
       "    .dataframe tbody tr th:only-of-type {\n",
       "        vertical-align: middle;\n",
       "    }\n",
       "\n",
       "    .dataframe tbody tr th {\n",
       "        vertical-align: top;\n",
       "    }\n",
       "\n",
       "    .dataframe thead th {\n",
       "        text-align: right;\n",
       "    }\n",
       "</style>\n",
       "<table border=\"1\" class=\"dataframe\">\n",
       "  <thead>\n",
       "    <tr style=\"text-align: right;\">\n",
       "      <th></th>\n",
       "      <th>n_fields</th>\n",
       "      <th>area_ha</th>\n",
       "      <th>geometry</th>\n",
       "      <th>centroid</th>\n",
       "    </tr>\n",
       "  </thead>\n",
       "  <tbody>\n",
       "    <tr>\n",
       "      <th>0</th>\n",
       "      <td>0.0</td>\n",
       "      <td>0.0</td>\n",
       "      <td>POLYGON ((2254000.000 840000.001, 2254000.000 ...</td>\n",
       "      <td>POINT (2254500.000 840500.001)</td>\n",
       "    </tr>\n",
       "    <tr>\n",
       "      <th>1</th>\n",
       "      <td>0.0</td>\n",
       "      <td>0.0</td>\n",
       "      <td>POLYGON ((2254000.000 841000.001, 2254000.000 ...</td>\n",
       "      <td>POINT (2254500.000 841500.001)</td>\n",
       "    </tr>\n",
       "    <tr>\n",
       "      <th>2</th>\n",
       "      <td>0.0</td>\n",
       "      <td>0.0</td>\n",
       "      <td>POLYGON ((2254000.000 842000.001, 2254000.000 ...</td>\n",
       "      <td>POINT (2254500.000 842500.001)</td>\n",
       "    </tr>\n",
       "    <tr>\n",
       "      <th>3</th>\n",
       "      <td>0.0</td>\n",
       "      <td>0.0</td>\n",
       "      <td>POLYGON ((2254000.000 843000.001, 2254000.000 ...</td>\n",
       "      <td>POINT (2254500.000 843500.001)</td>\n",
       "    </tr>\n",
       "    <tr>\n",
       "      <th>4</th>\n",
       "      <td>0.0</td>\n",
       "      <td>0.0</td>\n",
       "      <td>POLYGON ((2254000.000 844000.001, 2254000.000 ...</td>\n",
       "      <td>POINT (2254500.000 844500.001)</td>\n",
       "    </tr>\n",
       "    <tr>\n",
       "      <th>...</th>\n",
       "      <td>...</td>\n",
       "      <td>...</td>\n",
       "      <td>...</td>\n",
       "      <td>...</td>\n",
       "    </tr>\n",
       "    <tr>\n",
       "      <th>454395</th>\n",
       "      <td>0.0</td>\n",
       "      <td>0.0</td>\n",
       "      <td>POLYGON ((2963000.001 1475000.001, 2963000.001...</td>\n",
       "      <td>POINT (2963500.001 1475500.001)</td>\n",
       "    </tr>\n",
       "    <tr>\n",
       "      <th>454396</th>\n",
       "      <td>0.0</td>\n",
       "      <td>0.0</td>\n",
       "      <td>POLYGON ((2963000.001 1476000.001, 2963000.001...</td>\n",
       "      <td>POINT (2963500.001 1476500.001)</td>\n",
       "    </tr>\n",
       "    <tr>\n",
       "      <th>454397</th>\n",
       "      <td>0.0</td>\n",
       "      <td>0.0</td>\n",
       "      <td>POLYGON ((2963000.001 1477000.001, 2963000.001...</td>\n",
       "      <td>POINT (2963500.001 1477500.001)</td>\n",
       "    </tr>\n",
       "    <tr>\n",
       "      <th>454398</th>\n",
       "      <td>0.0</td>\n",
       "      <td>0.0</td>\n",
       "      <td>POLYGON ((2963000.001 1478000.001, 2963000.001...</td>\n",
       "      <td>POINT (2963500.001 1478500.001)</td>\n",
       "    </tr>\n",
       "    <tr>\n",
       "      <th>454399</th>\n",
       "      <td>0.0</td>\n",
       "      <td>0.0</td>\n",
       "      <td>POLYGON ((2963000.001 1479000.001, 2963000.001...</td>\n",
       "      <td>POINT (2963500.001 1479500.001)</td>\n",
       "    </tr>\n",
       "  </tbody>\n",
       "</table>\n",
       "<p>454400 rows × 4 columns</p>\n",
       "</div>"
      ],
      "text/plain": [
       "        n_fields  area_ha                                           geometry  \\\n",
       "0            0.0      0.0  POLYGON ((2254000.000 840000.001, 2254000.000 ...   \n",
       "1            0.0      0.0  POLYGON ((2254000.000 841000.001, 2254000.000 ...   \n",
       "2            0.0      0.0  POLYGON ((2254000.000 842000.001, 2254000.000 ...   \n",
       "3            0.0      0.0  POLYGON ((2254000.000 843000.001, 2254000.000 ...   \n",
       "4            0.0      0.0  POLYGON ((2254000.000 844000.001, 2254000.000 ...   \n",
       "...          ...      ...                                                ...   \n",
       "454395       0.0      0.0  POLYGON ((2963000.001 1475000.001, 2963000.001...   \n",
       "454396       0.0      0.0  POLYGON ((2963000.001 1476000.001, 2963000.001...   \n",
       "454397       0.0      0.0  POLYGON ((2963000.001 1477000.001, 2963000.001...   \n",
       "454398       0.0      0.0  POLYGON ((2963000.001 1478000.001, 2963000.001...   \n",
       "454399       0.0      0.0  POLYGON ((2963000.001 1479000.001, 2963000.001...   \n",
       "\n",
       "                               centroid  \n",
       "0        POINT (2254500.000 840500.001)  \n",
       "1        POINT (2254500.000 841500.001)  \n",
       "2        POINT (2254500.000 842500.001)  \n",
       "3        POINT (2254500.000 843500.001)  \n",
       "4        POINT (2254500.000 844500.001)  \n",
       "...                                 ...  \n",
       "454395  POINT (2963500.001 1475500.001)  \n",
       "454396  POINT (2963500.001 1476500.001)  \n",
       "454397  POINT (2963500.001 1477500.001)  \n",
       "454398  POINT (2963500.001 1478500.001)  \n",
       "454399  POINT (2963500.001 1479500.001)  \n",
       "\n",
       "[454400 rows x 4 columns]"
      ]
     },
     "execution_count": 23,
     "metadata": {},
     "output_type": "execute_result"
    }
   ],
   "source": []
  },
  {
   "attachments": {},
   "cell_type": "markdown",
   "metadata": {},
   "source": [
    "Then create the daily time series for each PLZ in the phenological dataset and store it - takes some time"
   ]
  },
  {
   "attachments": {},
   "cell_type": "markdown",
   "metadata": {},
   "source": [
    "Voilá, you are ready to calibrate."
   ]
  }
 ],
 "metadata": {
  "kernelspec": {
   "display_name": "climada_env_3.9",
   "language": "python",
   "name": "python3"
  },
  "language_info": {
   "codemirror_mode": {
    "name": "ipython",
    "version": 3
   },
   "file_extension": ".py",
   "mimetype": "text/x-python",
   "name": "python",
   "nbconvert_exporter": "python",
   "pygments_lexer": "ipython3",
   "version": "3.9.16"
  },
  "orig_nbformat": 4
 },
 "nbformat": 4,
 "nbformat_minor": 2
}
