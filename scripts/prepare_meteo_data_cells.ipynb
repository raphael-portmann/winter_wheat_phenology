{
 "cells": [
  {
   "attachments": {},
   "cell_type": "markdown",
   "metadata": {},
   "source": [
    "##Prepare meteorological data for WOFOST run on gridded data\n",
    "\n",
    "This notebook reads MeteoSwiss climate data [Tmin, Tmax](https://www.meteoswiss.admin.ch/dam/jcr:818a4d17-cb0c-4e8b-92c6-1a1bdf5348b7/ProdDoc_TabsD.pdf) and agricultural exposure data (or the spatial_units.gpkg file) as described in [Portmann et al. 2023](https://egusphere.copernicus.org/preprints/2023/egusphere-2023-2598/) and produces one .csv file for each meteorological variable with time as rows and grid cell IDs (of all 1x1km grid cells with exposure) as columns."
   ]
  },
  {
   "cell_type": "code",
   "execution_count": 2,
   "metadata": {},
   "outputs": [],
   "source": [
    "import pandas as pd\n",
    "import xarray as xr\n",
    "import numpy as np\n",
    "import geopandas as gpd\n",
    "import os"
   ]
  },
  {
   "attachments": {},
   "cell_type": "markdown",
   "metadata": {},
   "source": [
    "First, define directories of gridded exposure data (polygons), the MeteoSwiss data and the directory to store the output data"
   ]
  },
  {
   "cell_type": "code",
   "execution_count": 6,
   "metadata": {},
   "outputs": [],
   "source": [
    "#produce MCH Data (comment if already done so)\n",
    "\n",
    "#INPUT DATA\n",
    "datadir_MCH='O:/Data-Raw/27_Natural_Resources-RE/99_Meteo_Public/MeteoSwiss_netCDF/__griddedData/lv95/'\n",
    "datadir_exposure='C:/Users/F80840370/projects/scClim/climada/data/scClim/exposure/GIS/Weizen_Mais_Raps_Gerste_polygons.gpkg'\n",
    "\n",
    "#OUTPUT DATA\n",
    "OUTDIR='C:/Users/F80840370/projects/scClim/wofost/winter_wheat_phenology/meteo_data/MeteoSwiss/'\n",
    "\n",
    "startyear=1971\n",
    "endyear=2021\n",
    "variables=['TminD','TmaxD']\n",
    "filename_base='TminTmax_daily_{}_{}'.format(startyear,endyear)"
   ]
  },
  {
   "attachments": {},
   "cell_type": "markdown",
   "metadata": {},
   "source": [
    "Create spatial units file from exposure or just read it if it is there"
   ]
  },
  {
   "cell_type": "code",
   "execution_count": 8,
   "metadata": {},
   "outputs": [
    {
     "ename": "ValueError",
     "evalue": "Must pass 2-d input. shape=(1, 12742, 6)",
     "output_type": "error",
     "traceback": [
      "\u001b[1;31m---------------------------------------------------------------------------\u001b[0m",
      "\u001b[1;31mValueError\u001b[0m                                Traceback (most recent call last)",
      "Cell \u001b[1;32mIn[8], line 8\u001b[0m\n\u001b[0;32m      6\u001b[0m units_lv95[\u001b[39m'\u001b[39m\u001b[39mY\u001b[39m\u001b[39m'\u001b[39m]\u001b[39m=\u001b[39mnp\u001b[39m.\u001b[39mround(units_lv95\u001b[39m.\u001b[39mcentroid\u001b[39m.\u001b[39my)\n\u001b[0;32m      7\u001b[0m units_lv95[\u001b[39m'\u001b[39m\u001b[39mID\u001b[39m\u001b[39m'\u001b[39m]\u001b[39m=\u001b[39munits_lv95\u001b[39m.\u001b[39mindex\n\u001b[1;32m----> 8\u001b[0m units_new \u001b[39m=\u001b[39m gpd\u001b[39m.\u001b[39;49mGeoDataFrame([units_lv95], crs\u001b[39m=\u001b[39;49munits\u001b[39m.\u001b[39;49mcrs)\n\u001b[0;32m      9\u001b[0m units_new\u001b[39m.\u001b[39mgeometry\u001b[39m=\u001b[39munits_new\u001b[39m.\u001b[39mgeometry\u001b[39m.\u001b[39mcentroid\n\u001b[0;32m     10\u001b[0m units_new\u001b[39m=\u001b[39munits_new\u001b[39m.\u001b[39mto_crs(epsg\u001b[39m=\u001b[39m\u001b[39m4326\u001b[39m, inplace\u001b[39m=\u001b[39m\u001b[39mTrue\u001b[39;00m)\n",
      "File \u001b[1;32mc:\\Users\\F80840370\\Anaconda3\\envs\\climada_env_3.9\\lib\\site-packages\\geopandas\\geodataframe.py:138\u001b[0m, in \u001b[0;36mGeoDataFrame.__init__\u001b[1;34m(self, data, geometry, crs, *args, **kwargs)\u001b[0m\n\u001b[0;32m    132\u001b[0m     \u001b[39mif\u001b[39;00m (\n\u001b[0;32m    133\u001b[0m         kwargs\u001b[39m.\u001b[39mget(\u001b[39m\"\u001b[39m\u001b[39mcopy\u001b[39m\u001b[39m\"\u001b[39m) \u001b[39mis\u001b[39;00m \u001b[39mNone\u001b[39;00m\n\u001b[0;32m    134\u001b[0m         \u001b[39mand\u001b[39;00m \u001b[39misinstance\u001b[39m(data, DataFrame)\n\u001b[0;32m    135\u001b[0m         \u001b[39mand\u001b[39;00m \u001b[39mnot\u001b[39;00m \u001b[39misinstance\u001b[39m(data, GeoDataFrame)\n\u001b[0;32m    136\u001b[0m     ):\n\u001b[0;32m    137\u001b[0m         kwargs\u001b[39m.\u001b[39mupdate(copy\u001b[39m=\u001b[39m\u001b[39mTrue\u001b[39;00m)\n\u001b[1;32m--> 138\u001b[0m     \u001b[39msuper\u001b[39m()\u001b[39m.\u001b[39m\u001b[39m__init__\u001b[39m(data, \u001b[39m*\u001b[39margs, \u001b[39m*\u001b[39m\u001b[39m*\u001b[39mkwargs)\n\u001b[0;32m    140\u001b[0m \u001b[39m# set_geometry ensures the geometry data have the proper dtype,\u001b[39;00m\n\u001b[0;32m    141\u001b[0m \u001b[39m# but is not called if `geometry=None` ('geometry' column present\u001b[39;00m\n\u001b[0;32m    142\u001b[0m \u001b[39m# in the data), so therefore need to ensure it here manually\u001b[39;00m\n\u001b[1;32m   (...)\u001b[0m\n\u001b[0;32m    146\u001b[0m \n\u001b[0;32m    147\u001b[0m \u001b[39m# if gdf passed in and geo_col is set, we use that for geometry\u001b[39;00m\n\u001b[0;32m    148\u001b[0m \u001b[39mif\u001b[39;00m geometry \u001b[39mis\u001b[39;00m \u001b[39mNone\u001b[39;00m \u001b[39mand\u001b[39;00m \u001b[39misinstance\u001b[39m(data, GeoDataFrame):\n",
      "File \u001b[1;32mc:\\Users\\F80840370\\Anaconda3\\envs\\climada_env_3.9\\lib\\site-packages\\pandas\\core\\frame.py:762\u001b[0m, in \u001b[0;36mDataFrame.__init__\u001b[1;34m(self, data, index, columns, dtype, copy)\u001b[0m\n\u001b[0;32m    754\u001b[0m         mgr \u001b[39m=\u001b[39m arrays_to_mgr(\n\u001b[0;32m    755\u001b[0m             arrays,\n\u001b[0;32m    756\u001b[0m             columns,\n\u001b[1;32m   (...)\u001b[0m\n\u001b[0;32m    759\u001b[0m             typ\u001b[39m=\u001b[39mmanager,\n\u001b[0;32m    760\u001b[0m         )\n\u001b[0;32m    761\u001b[0m     \u001b[39melse\u001b[39;00m:\n\u001b[1;32m--> 762\u001b[0m         mgr \u001b[39m=\u001b[39m ndarray_to_mgr(\n\u001b[0;32m    763\u001b[0m             data,\n\u001b[0;32m    764\u001b[0m             index,\n\u001b[0;32m    765\u001b[0m             columns,\n\u001b[0;32m    766\u001b[0m             dtype\u001b[39m=\u001b[39;49mdtype,\n\u001b[0;32m    767\u001b[0m             copy\u001b[39m=\u001b[39;49mcopy,\n\u001b[0;32m    768\u001b[0m             typ\u001b[39m=\u001b[39;49mmanager,\n\u001b[0;32m    769\u001b[0m         )\n\u001b[0;32m    770\u001b[0m \u001b[39melse\u001b[39;00m:\n\u001b[0;32m    771\u001b[0m     mgr \u001b[39m=\u001b[39m dict_to_mgr(\n\u001b[0;32m    772\u001b[0m         {},\n\u001b[0;32m    773\u001b[0m         index,\n\u001b[1;32m   (...)\u001b[0m\n\u001b[0;32m    776\u001b[0m         typ\u001b[39m=\u001b[39mmanager,\n\u001b[0;32m    777\u001b[0m     )\n",
      "File \u001b[1;32mc:\\Users\\F80840370\\Anaconda3\\envs\\climada_env_3.9\\lib\\site-packages\\pandas\\core\\internals\\construction.py:329\u001b[0m, in \u001b[0;36mndarray_to_mgr\u001b[1;34m(values, index, columns, dtype, copy, typ)\u001b[0m\n\u001b[0;32m    324\u001b[0m         values \u001b[39m=\u001b[39m values\u001b[39m.\u001b[39mreshape(\u001b[39m-\u001b[39m\u001b[39m1\u001b[39m, \u001b[39m1\u001b[39m)\n\u001b[0;32m    326\u001b[0m \u001b[39melse\u001b[39;00m:\n\u001b[0;32m    327\u001b[0m     \u001b[39m# by definition an array here\u001b[39;00m\n\u001b[0;32m    328\u001b[0m     \u001b[39m# the dtypes will be coerced to a single dtype\u001b[39;00m\n\u001b[1;32m--> 329\u001b[0m     values \u001b[39m=\u001b[39m _prep_ndarraylike(values, copy\u001b[39m=\u001b[39;49mcopy_on_sanitize)\n\u001b[0;32m    331\u001b[0m \u001b[39mif\u001b[39;00m dtype \u001b[39mis\u001b[39;00m \u001b[39mnot\u001b[39;00m \u001b[39mNone\u001b[39;00m \u001b[39mand\u001b[39;00m \u001b[39mnot\u001b[39;00m is_dtype_equal(values\u001b[39m.\u001b[39mdtype, dtype):\n\u001b[0;32m    332\u001b[0m     \u001b[39m# GH#40110 see similar check inside sanitize_array\u001b[39;00m\n\u001b[0;32m    333\u001b[0m     rcf \u001b[39m=\u001b[39m \u001b[39mnot\u001b[39;00m (is_integer_dtype(dtype) \u001b[39mand\u001b[39;00m values\u001b[39m.\u001b[39mdtype\u001b[39m.\u001b[39mkind \u001b[39m==\u001b[39m \u001b[39m\"\u001b[39m\u001b[39mf\u001b[39m\u001b[39m\"\u001b[39m)\n",
      "File \u001b[1;32mc:\\Users\\F80840370\\Anaconda3\\envs\\climada_env_3.9\\lib\\site-packages\\pandas\\core\\internals\\construction.py:583\u001b[0m, in \u001b[0;36m_prep_ndarraylike\u001b[1;34m(values, copy)\u001b[0m\n\u001b[0;32m    581\u001b[0m     values \u001b[39m=\u001b[39m values\u001b[39m.\u001b[39mreshape((values\u001b[39m.\u001b[39mshape[\u001b[39m0\u001b[39m], \u001b[39m1\u001b[39m))\n\u001b[0;32m    582\u001b[0m \u001b[39melif\u001b[39;00m values\u001b[39m.\u001b[39mndim \u001b[39m!=\u001b[39m \u001b[39m2\u001b[39m:\n\u001b[1;32m--> 583\u001b[0m     \u001b[39mraise\u001b[39;00m \u001b[39mValueError\u001b[39;00m(\u001b[39mf\u001b[39m\u001b[39m\"\u001b[39m\u001b[39mMust pass 2-d input. shape=\u001b[39m\u001b[39m{\u001b[39;00mvalues\u001b[39m.\u001b[39mshape\u001b[39m}\u001b[39;00m\u001b[39m\"\u001b[39m)\n\u001b[0;32m    585\u001b[0m \u001b[39mreturn\u001b[39;00m values\n",
      "\u001b[1;31mValueError\u001b[0m: Must pass 2-d input. shape=(1, 12742, 6)"
     ]
    }
   ],
   "source": [
    "#create from exposure\n",
    "units=gpd.read_file(datadir_exposure)\n",
    "units=units[units.n_fields>0]\n",
    "units_lv95=units.to_crs(crs=2056)\n",
    "units_lv95['X']=np.round(units_lv95.centroid.x)\n",
    "units_lv95['Y']=np.round(units_lv95.centroid.y)\n",
    "units_lv95['ID']=units_lv95.index\n",
    "\n",
    "\n",
    "#save\n",
    "#nits_lv95.to_file(\"spatial_units.gpkg\", driver=\"GPKG\")\n",
    "#read\n",
    "#units_lv95=gpd.read_file(\"spatial_units.gpkg\", driver=\"GPKG\")"
   ]
  },
  {
   "cell_type": "code",
   "execution_count": 37,
   "metadata": {},
   "outputs": [],
   "source": [
    "units_new = gpd.GeoDataFrame.copy(units_lv95)\n",
    "units_new['geometry']=units_new.geometry.centroid\n",
    "units_new=units_new.to_crs(epsg=4326)\n",
    "units_lv95['latitude']=units_new.geometry.y.values\n",
    "units_lv95['longitude']=units_new.geometry.x.values"
   ]
  },
  {
   "cell_type": "code",
   "execution_count": 38,
   "metadata": {},
   "outputs": [
    {
     "data": {
      "text/plain": [
       "147475    46.181038\n",
       "147476    46.190032\n",
       "147477    46.199026\n",
       "148112    46.154227\n",
       "148116    46.190203\n",
       "            ...    \n",
       "351650    46.295079\n",
       "351651    46.304069\n",
       "354204    46.239913\n",
       "363869    46.819433\n",
       "365790    46.827412\n",
       "Name: latitude, Length: 12742, dtype: float64"
      ]
     },
     "execution_count": 38,
     "metadata": {},
     "output_type": "execute_result"
    }
   ],
   "source": [
    "units_lv95.latitude"
   ]
  },
  {
   "cell_type": "code",
   "execution_count": 17,
   "metadata": {},
   "outputs": [
    {
     "ename": "AttributeError",
     "evalue": "'NoneType' object has no attribute 'geometry'",
     "output_type": "error",
     "traceback": [
      "\u001b[1;31m---------------------------------------------------------------------------\u001b[0m",
      "\u001b[1;31mAttributeError\u001b[0m                            Traceback (most recent call last)",
      "Cell \u001b[1;32mIn[17], line 3\u001b[0m\n\u001b[0;32m      1\u001b[0m units_new\u001b[39m.\u001b[39mgeometry\u001b[39m=\u001b[39munits_new\u001b[39m.\u001b[39mgeometry\u001b[39m.\u001b[39mcentroid\n\u001b[0;32m      2\u001b[0m units_new\u001b[39m=\u001b[39munits_new\u001b[39m.\u001b[39mto_crs(epsg\u001b[39m=\u001b[39m\u001b[39m4326\u001b[39m, inplace\u001b[39m=\u001b[39m\u001b[39mTrue\u001b[39;00m)\n\u001b[1;32m----> 3\u001b[0m units_lv95[\u001b[39m'\u001b[39m\u001b[39mlatitude\u001b[39m\u001b[39m'\u001b[39m]\u001b[39m=\u001b[39munits_new\u001b[39m.\u001b[39;49mgeometry\u001b[39m.\u001b[39my\u001b[39m.\u001b[39mvalues[\u001b[39m0\u001b[39m]\n\u001b[0;32m      4\u001b[0m units_lv95[\u001b[39m'\u001b[39m\u001b[39mlongitude\u001b[39m\u001b[39m'\u001b[39m]\u001b[39m=\u001b[39munits_new\u001b[39m.\u001b[39mgeometry\u001b[39m.\u001b[39mx\u001b[39m.\u001b[39mvalues[\u001b[39m0\u001b[39m]\n",
      "\u001b[1;31mAttributeError\u001b[0m: 'NoneType' object has no attribute 'geometry'"
     ]
    }
   ],
   "source": []
  },
  {
   "cell_type": "code",
   "execution_count": 13,
   "metadata": {},
   "outputs": [
    {
     "data": {
      "text/html": [
       "<div>\n",
       "<style scoped>\n",
       "    .dataframe tbody tr th:only-of-type {\n",
       "        vertical-align: middle;\n",
       "    }\n",
       "\n",
       "    .dataframe tbody tr th {\n",
       "        vertical-align: top;\n",
       "    }\n",
       "\n",
       "    .dataframe thead th {\n",
       "        text-align: right;\n",
       "    }\n",
       "</style>\n",
       "<table border=\"1\" class=\"dataframe\">\n",
       "  <thead>\n",
       "    <tr style=\"text-align: right;\">\n",
       "      <th></th>\n",
       "      <th>n_fields</th>\n",
       "      <th>area_ha</th>\n",
       "      <th>geometry</th>\n",
       "      <th>X</th>\n",
       "      <th>Y</th>\n",
       "      <th>ID</th>\n",
       "    </tr>\n",
       "  </thead>\n",
       "  <tbody>\n",
       "    <tr>\n",
       "      <th>147475</th>\n",
       "      <td>2.0</td>\n",
       "      <td>9.397416</td>\n",
       "      <td>POLYGON ((2484000.000 1115000.001, 2484000.000...</td>\n",
       "      <td>2484500.0</td>\n",
       "      <td>1115500.0</td>\n",
       "      <td>147475</td>\n",
       "    </tr>\n",
       "    <tr>\n",
       "      <th>147476</th>\n",
       "      <td>3.0</td>\n",
       "      <td>20.227029</td>\n",
       "      <td>POLYGON ((2484000.000 1116000.001, 2484000.000...</td>\n",
       "      <td>2484500.0</td>\n",
       "      <td>1116500.0</td>\n",
       "      <td>147476</td>\n",
       "    </tr>\n",
       "    <tr>\n",
       "      <th>147477</th>\n",
       "      <td>1.0</td>\n",
       "      <td>5.369543</td>\n",
       "      <td>POLYGON ((2484000.000 1117000.001, 2484000.000...</td>\n",
       "      <td>2484500.0</td>\n",
       "      <td>1117500.0</td>\n",
       "      <td>147477</td>\n",
       "    </tr>\n",
       "    <tr>\n",
       "      <th>148112</th>\n",
       "      <td>9.0</td>\n",
       "      <td>41.700048</td>\n",
       "      <td>POLYGON ((2485000.000 1112000.001, 2485000.000...</td>\n",
       "      <td>2485500.0</td>\n",
       "      <td>1112500.0</td>\n",
       "      <td>148112</td>\n",
       "    </tr>\n",
       "    <tr>\n",
       "      <th>148116</th>\n",
       "      <td>1.0</td>\n",
       "      <td>11.171633</td>\n",
       "      <td>POLYGON ((2485000.000 1116000.001, 2485000.000...</td>\n",
       "      <td>2485500.0</td>\n",
       "      <td>1116500.0</td>\n",
       "      <td>148116</td>\n",
       "    </tr>\n",
       "    <tr>\n",
       "      <th>...</th>\n",
       "      <td>...</td>\n",
       "      <td>...</td>\n",
       "      <td>...</td>\n",
       "      <td>...</td>\n",
       "      <td>...</td>\n",
       "      <td>...</td>\n",
       "    </tr>\n",
       "    <tr>\n",
       "      <th>351650</th>\n",
       "      <td>1.0</td>\n",
       "      <td>0.699982</td>\n",
       "      <td>POLYGON ((2803000.001 1130000.001, 2803000.001...</td>\n",
       "      <td>2803500.0</td>\n",
       "      <td>1130500.0</td>\n",
       "      <td>351650</td>\n",
       "    </tr>\n",
       "    <tr>\n",
       "      <th>351651</th>\n",
       "      <td>1.0</td>\n",
       "      <td>0.109455</td>\n",
       "      <td>POLYGON ((2803000.001 1131000.001, 2803000.001...</td>\n",
       "      <td>2803500.0</td>\n",
       "      <td>1131500.0</td>\n",
       "      <td>351651</td>\n",
       "    </tr>\n",
       "    <tr>\n",
       "      <th>354204</th>\n",
       "      <td>1.0</td>\n",
       "      <td>0.086635</td>\n",
       "      <td>POLYGON ((2807000.001 1124000.001, 2807000.001...</td>\n",
       "      <td>2807500.0</td>\n",
       "      <td>1124500.0</td>\n",
       "      <td>354204</td>\n",
       "    </tr>\n",
       "    <tr>\n",
       "      <th>363869</th>\n",
       "      <td>1.0</td>\n",
       "      <td>0.244925</td>\n",
       "      <td>POLYGON ((2822000.001 1189000.001, 2822000.001...</td>\n",
       "      <td>2822500.0</td>\n",
       "      <td>1189500.0</td>\n",
       "      <td>363869</td>\n",
       "    </tr>\n",
       "    <tr>\n",
       "      <th>365790</th>\n",
       "      <td>1.0</td>\n",
       "      <td>0.308657</td>\n",
       "      <td>POLYGON ((2825000.001 1190000.001, 2825000.001...</td>\n",
       "      <td>2825500.0</td>\n",
       "      <td>1190500.0</td>\n",
       "      <td>365790</td>\n",
       "    </tr>\n",
       "  </tbody>\n",
       "</table>\n",
       "<p>12742 rows × 6 columns</p>\n",
       "</div>"
      ],
      "text/plain": [
       "        n_fields    area_ha  \\\n",
       "147475       2.0   9.397416   \n",
       "147476       3.0  20.227029   \n",
       "147477       1.0   5.369543   \n",
       "148112       9.0  41.700048   \n",
       "148116       1.0  11.171633   \n",
       "...          ...        ...   \n",
       "351650       1.0   0.699982   \n",
       "351651       1.0   0.109455   \n",
       "354204       1.0   0.086635   \n",
       "363869       1.0   0.244925   \n",
       "365790       1.0   0.308657   \n",
       "\n",
       "                                                 geometry          X  \\\n",
       "147475  POLYGON ((2484000.000 1115000.001, 2484000.000...  2484500.0   \n",
       "147476  POLYGON ((2484000.000 1116000.001, 2484000.000...  2484500.0   \n",
       "147477  POLYGON ((2484000.000 1117000.001, 2484000.000...  2484500.0   \n",
       "148112  POLYGON ((2485000.000 1112000.001, 2485000.000...  2485500.0   \n",
       "148116  POLYGON ((2485000.000 1116000.001, 2485000.000...  2485500.0   \n",
       "...                                                   ...        ...   \n",
       "351650  POLYGON ((2803000.001 1130000.001, 2803000.001...  2803500.0   \n",
       "351651  POLYGON ((2803000.001 1131000.001, 2803000.001...  2803500.0   \n",
       "354204  POLYGON ((2807000.001 1124000.001, 2807000.001...  2807500.0   \n",
       "363869  POLYGON ((2822000.001 1189000.001, 2822000.001...  2822500.0   \n",
       "365790  POLYGON ((2825000.001 1190000.001, 2825000.001...  2825500.0   \n",
       "\n",
       "                Y      ID  \n",
       "147475  1115500.0  147475  \n",
       "147476  1116500.0  147476  \n",
       "147477  1117500.0  147477  \n",
       "148112  1112500.0  148112  \n",
       "148116  1116500.0  148116  \n",
       "...           ...     ...  \n",
       "351650  1130500.0  351650  \n",
       "351651  1131500.0  351651  \n",
       "354204  1124500.0  354204  \n",
       "363869  1189500.0  363869  \n",
       "365790  1190500.0  365790  \n",
       "\n",
       "[12742 rows x 6 columns]"
      ]
     },
     "execution_count": 13,
     "metadata": {},
     "output_type": "execute_result"
    }
   ],
   "source": [
    "units_lv95.copy"
   ]
  },
  {
   "attachments": {},
   "cell_type": "markdown",
   "metadata": {},
   "source": [
    "Read gridded MeteoSwiss Climate Data from Agroscope Server. Make sure to use .load() to load the data into memory. Otherwise subsequent computations may take a long time. This step takes quite some time (up to 1h is to be expected)"
   ]
  },
  {
   "cell_type": "code",
   "execution_count": 41,
   "metadata": {},
   "outputs": [
    {
     "data": {
      "text/plain": [
       "147475    2484500.0\n",
       "147476    2484500.0\n",
       "147477    2484500.0\n",
       "148112    2485500.0\n",
       "148116    2485500.0\n",
       "            ...    \n",
       "351650    2803500.0\n",
       "351651    2803500.0\n",
       "354204    2807500.0\n",
       "363869    2822500.0\n",
       "365790    2825500.0\n",
       "Name: X, Length: 12742, dtype: float64"
      ]
     },
     "execution_count": 41,
     "metadata": {},
     "output_type": "execute_result"
    }
   ],
   "source": [
    "#get list of datafiles #1961-2022\n",
    "mch_data={}\n",
    "for var in variables:\n",
    "    datafiles=[datadir_MCH+str(var)+'_ch01r.swiss.lv95_'+str(year)+'01010000_'+str(year)+'12310000.nc' for year in range(startyear,endyear+1)]\n",
    "    #read datafiles\n",
    "    print('reading data for {} from {}...'.format(var,datadir_MCH))\n",
    "    mch_data[var]=xr.open_mfdataset(datafiles,concat_dim = 'time',combine='nested',coords = 'minimal')\n",
    "    #to be able to later run this quickly we need to load the dataset\n",
    "    mch_data[var].load()"
   ]
  },
  {
   "attachments": {},
   "cell_type": "markdown",
   "metadata": {},
   "source": [
    "For each variable read MeteoSwiss data and create for each variable a DataFrame with time as column and spatial units (ID) as rows. Write one file per variable for all years"
   ]
  },
  {
   "cell_type": "code",
   "execution_count": 30,
   "metadata": {},
   "outputs": [
    {
     "data": {
      "text/plain": [
       "147475    147475\n",
       "147476    147476\n",
       "147477    147477\n",
       "148112    148112\n",
       "148116    148116\n",
       "           ...  \n",
       "351650    351650\n",
       "351651    351651\n",
       "354204    354204\n",
       "363869    363869\n",
       "365790    365790\n",
       "Name: ID, Length: 12742, dtype: int64"
      ]
     },
     "execution_count": 30,
     "metadata": {},
     "output_type": "execute_result"
    }
   ],
   "source": [
    "for var in variables:\n",
    "      datalist=[pd.Dataframe({'time': mch_data[var].time.values})]\n",
    "      for ind in units_lv95.index:\n",
    "            X=units_lv95.iloc[ind].X\n",
    "            Y=units_lv95.iloc[ind].Y\n",
    "            ID=units_lv95.iloc[ind].ID\n",
    "            data=mch_data[var].sel(E=X,N=Y,method='nearest')\n",
    "            datalist.append=pd.Dataframe({ID: data[var].values})\n",
    "            \n",
    "      df_out=pd.concat(datalist,axis=1)\n",
    "      filename='{}_{}_{}'.format(var,startyear,endyear)\n",
    "      df_out.to_csv(OUTDIR+filename+'.csv')\n"
   ]
  },
  {
   "attachments": {},
   "cell_type": "markdown",
   "metadata": {},
   "source": [
    "Voilá, you are ready to run wofost"
   ]
  },
  {
   "cell_type": "code",
   "execution_count": 5,
   "metadata": {},
   "outputs": [
    {
     "ename": "KeyboardInterrupt",
     "evalue": "",
     "output_type": "error",
     "traceback": [
      "\u001b[1;31m---------------------------------------------------------------------------\u001b[0m",
      "\u001b[1;31mKeyboardInterrupt\u001b[0m                         Traceback (most recent call last)",
      "Cell \u001b[1;32mIn[5], line 1\u001b[0m\n\u001b[1;32m----> 1\u001b[0m df\u001b[39m=\u001b[39mpd\u001b[39m.\u001b[39;49mread_csv(OUTDIR\u001b[39m+\u001b[39;49m\u001b[39m'\u001b[39;49m\u001b[39mTmaxD_1971_2021.csv\u001b[39;49m\u001b[39m'\u001b[39;49m)\n",
      "File \u001b[1;32mc:\\Users\\F80840370\\Anaconda3\\envs\\climada_env_3.9\\lib\\site-packages\\pandas\\util\\_decorators.py:211\u001b[0m, in \u001b[0;36mdeprecate_kwarg.<locals>._deprecate_kwarg.<locals>.wrapper\u001b[1;34m(*args, **kwargs)\u001b[0m\n\u001b[0;32m    209\u001b[0m     \u001b[39melse\u001b[39;00m:\n\u001b[0;32m    210\u001b[0m         kwargs[new_arg_name] \u001b[39m=\u001b[39m new_arg_value\n\u001b[1;32m--> 211\u001b[0m \u001b[39mreturn\u001b[39;00m func(\u001b[39m*\u001b[39margs, \u001b[39m*\u001b[39m\u001b[39m*\u001b[39mkwargs)\n",
      "File \u001b[1;32mc:\\Users\\F80840370\\Anaconda3\\envs\\climada_env_3.9\\lib\\site-packages\\pandas\\util\\_decorators.py:331\u001b[0m, in \u001b[0;36mdeprecate_nonkeyword_arguments.<locals>.decorate.<locals>.wrapper\u001b[1;34m(*args, **kwargs)\u001b[0m\n\u001b[0;32m    325\u001b[0m \u001b[39mif\u001b[39;00m \u001b[39mlen\u001b[39m(args) \u001b[39m>\u001b[39m num_allow_args:\n\u001b[0;32m    326\u001b[0m     warnings\u001b[39m.\u001b[39mwarn(\n\u001b[0;32m    327\u001b[0m         msg\u001b[39m.\u001b[39mformat(arguments\u001b[39m=\u001b[39m_format_argument_list(allow_args)),\n\u001b[0;32m    328\u001b[0m         \u001b[39mFutureWarning\u001b[39;00m,\n\u001b[0;32m    329\u001b[0m         stacklevel\u001b[39m=\u001b[39mfind_stack_level(),\n\u001b[0;32m    330\u001b[0m     )\n\u001b[1;32m--> 331\u001b[0m \u001b[39mreturn\u001b[39;00m func(\u001b[39m*\u001b[39margs, \u001b[39m*\u001b[39m\u001b[39m*\u001b[39mkwargs)\n",
      "File \u001b[1;32mc:\\Users\\F80840370\\Anaconda3\\envs\\climada_env_3.9\\lib\\site-packages\\pandas\\io\\parsers\\readers.py:950\u001b[0m, in \u001b[0;36mread_csv\u001b[1;34m(filepath_or_buffer, sep, delimiter, header, names, index_col, usecols, squeeze, prefix, mangle_dupe_cols, dtype, engine, converters, true_values, false_values, skipinitialspace, skiprows, skipfooter, nrows, na_values, keep_default_na, na_filter, verbose, skip_blank_lines, parse_dates, infer_datetime_format, keep_date_col, date_parser, dayfirst, cache_dates, iterator, chunksize, compression, thousands, decimal, lineterminator, quotechar, quoting, doublequote, escapechar, comment, encoding, encoding_errors, dialect, error_bad_lines, warn_bad_lines, on_bad_lines, delim_whitespace, low_memory, memory_map, float_precision, storage_options)\u001b[0m\n\u001b[0;32m    935\u001b[0m kwds_defaults \u001b[39m=\u001b[39m _refine_defaults_read(\n\u001b[0;32m    936\u001b[0m     dialect,\n\u001b[0;32m    937\u001b[0m     delimiter,\n\u001b[1;32m   (...)\u001b[0m\n\u001b[0;32m    946\u001b[0m     defaults\u001b[39m=\u001b[39m{\u001b[39m\"\u001b[39m\u001b[39mdelimiter\u001b[39m\u001b[39m\"\u001b[39m: \u001b[39m\"\u001b[39m\u001b[39m,\u001b[39m\u001b[39m\"\u001b[39m},\n\u001b[0;32m    947\u001b[0m )\n\u001b[0;32m    948\u001b[0m kwds\u001b[39m.\u001b[39mupdate(kwds_defaults)\n\u001b[1;32m--> 950\u001b[0m \u001b[39mreturn\u001b[39;00m _read(filepath_or_buffer, kwds)\n",
      "File \u001b[1;32mc:\\Users\\F80840370\\Anaconda3\\envs\\climada_env_3.9\\lib\\site-packages\\pandas\\io\\parsers\\readers.py:611\u001b[0m, in \u001b[0;36m_read\u001b[1;34m(filepath_or_buffer, kwds)\u001b[0m\n\u001b[0;32m    608\u001b[0m     \u001b[39mreturn\u001b[39;00m parser\n\u001b[0;32m    610\u001b[0m \u001b[39mwith\u001b[39;00m parser:\n\u001b[1;32m--> 611\u001b[0m     \u001b[39mreturn\u001b[39;00m parser\u001b[39m.\u001b[39;49mread(nrows)\n",
      "File \u001b[1;32mc:\\Users\\F80840370\\Anaconda3\\envs\\climada_env_3.9\\lib\\site-packages\\pandas\\io\\parsers\\readers.py:1778\u001b[0m, in \u001b[0;36mTextFileReader.read\u001b[1;34m(self, nrows)\u001b[0m\n\u001b[0;32m   1771\u001b[0m nrows \u001b[39m=\u001b[39m validate_integer(\u001b[39m\"\u001b[39m\u001b[39mnrows\u001b[39m\u001b[39m\"\u001b[39m, nrows)\n\u001b[0;32m   1772\u001b[0m \u001b[39mtry\u001b[39;00m:\n\u001b[0;32m   1773\u001b[0m     \u001b[39m# error: \"ParserBase\" has no attribute \"read\"\u001b[39;00m\n\u001b[0;32m   1774\u001b[0m     (\n\u001b[0;32m   1775\u001b[0m         index,\n\u001b[0;32m   1776\u001b[0m         columns,\n\u001b[0;32m   1777\u001b[0m         col_dict,\n\u001b[1;32m-> 1778\u001b[0m     ) \u001b[39m=\u001b[39m \u001b[39mself\u001b[39;49m\u001b[39m.\u001b[39;49m_engine\u001b[39m.\u001b[39;49mread(  \u001b[39m# type: ignore[attr-defined]\u001b[39;49;00m\n\u001b[0;32m   1779\u001b[0m         nrows\n\u001b[0;32m   1780\u001b[0m     )\n\u001b[0;32m   1781\u001b[0m \u001b[39mexcept\u001b[39;00m \u001b[39mException\u001b[39;00m:\n\u001b[0;32m   1782\u001b[0m     \u001b[39mself\u001b[39m\u001b[39m.\u001b[39mclose()\n",
      "File \u001b[1;32mc:\\Users\\F80840370\\Anaconda3\\envs\\climada_env_3.9\\lib\\site-packages\\pandas\\io\\parsers\\c_parser_wrapper.py:230\u001b[0m, in \u001b[0;36mCParserWrapper.read\u001b[1;34m(self, nrows)\u001b[0m\n\u001b[0;32m    228\u001b[0m \u001b[39mtry\u001b[39;00m:\n\u001b[0;32m    229\u001b[0m     \u001b[39mif\u001b[39;00m \u001b[39mself\u001b[39m\u001b[39m.\u001b[39mlow_memory:\n\u001b[1;32m--> 230\u001b[0m         chunks \u001b[39m=\u001b[39m \u001b[39mself\u001b[39;49m\u001b[39m.\u001b[39;49m_reader\u001b[39m.\u001b[39;49mread_low_memory(nrows)\n\u001b[0;32m    231\u001b[0m         \u001b[39m# destructive to chunks\u001b[39;00m\n\u001b[0;32m    232\u001b[0m         data \u001b[39m=\u001b[39m _concatenate_chunks(chunks)\n",
      "File \u001b[1;32mc:\\Users\\F80840370\\Anaconda3\\envs\\climada_env_3.9\\lib\\site-packages\\pandas\\_libs\\parsers.pyx:808\u001b[0m, in \u001b[0;36mpandas._libs.parsers.TextReader.read_low_memory\u001b[1;34m()\u001b[0m\n",
      "File \u001b[1;32mc:\\Users\\F80840370\\Anaconda3\\envs\\climada_env_3.9\\lib\\site-packages\\pandas\\_libs\\parsers.pyx:890\u001b[0m, in \u001b[0;36mpandas._libs.parsers.TextReader._read_rows\u001b[1;34m()\u001b[0m\n",
      "File \u001b[1;32mc:\\Users\\F80840370\\Anaconda3\\envs\\climada_env_3.9\\lib\\site-packages\\pandas\\_libs\\parsers.pyx:1037\u001b[0m, in \u001b[0;36mpandas._libs.parsers.TextReader._convert_column_data\u001b[1;34m()\u001b[0m\n",
      "File \u001b[1;32mc:\\Users\\F80840370\\Anaconda3\\envs\\climada_env_3.9\\lib\\site-packages\\pandas\\_libs\\parsers.pyx:1083\u001b[0m, in \u001b[0;36mpandas._libs.parsers.TextReader._convert_tokens\u001b[1;34m()\u001b[0m\n",
      "File \u001b[1;32mc:\\Users\\F80840370\\Anaconda3\\envs\\climada_env_3.9\\lib\\site-packages\\pandas\\_libs\\parsers.pyx:1158\u001b[0m, in \u001b[0;36mpandas._libs.parsers.TextReader._convert_with_dtype\u001b[1;34m()\u001b[0m\n",
      "File \u001b[1;32mc:\\Users\\F80840370\\Anaconda3\\envs\\climada_env_3.9\\lib\\site-packages\\pandas\\core\\dtypes\\common.py:1433\u001b[0m, in \u001b[0;36mis_extension_array_dtype\u001b[1;34m(arr_or_dtype)\u001b[0m\n\u001b[0;32m   1424\u001b[0m     \u001b[39m# Note: if other EA dtypes are ever held in HybridBlock, exclude those\u001b[39;00m\n\u001b[0;32m   1425\u001b[0m     \u001b[39m#  here too.\u001b[39;00m\n\u001b[0;32m   1426\u001b[0m     \u001b[39m# NB: need to check DatetimeTZDtype and not is_datetime64tz_dtype\u001b[39;00m\n\u001b[0;32m   1427\u001b[0m     \u001b[39m#  to exclude ArrowTimestampUSDtype\u001b[39;00m\n\u001b[0;32m   1428\u001b[0m     \u001b[39mreturn\u001b[39;00m \u001b[39misinstance\u001b[39m(dtype, ExtensionDtype) \u001b[39mand\u001b[39;00m \u001b[39mnot\u001b[39;00m \u001b[39misinstance\u001b[39m(\n\u001b[0;32m   1429\u001b[0m         dtype, (DatetimeTZDtype, PeriodDtype)\n\u001b[0;32m   1430\u001b[0m     )\n\u001b[1;32m-> 1433\u001b[0m \u001b[39mdef\u001b[39;00m \u001b[39mis_extension_array_dtype\u001b[39m(arr_or_dtype) \u001b[39m-\u001b[39m\u001b[39m>\u001b[39m \u001b[39mbool\u001b[39m:\n\u001b[0;32m   1434\u001b[0m \u001b[39m    \u001b[39m\u001b[39m\"\"\"\u001b[39;00m\n\u001b[0;32m   1435\u001b[0m \u001b[39m    Check if an object is a pandas extension array type.\u001b[39;00m\n\u001b[0;32m   1436\u001b[0m \n\u001b[1;32m   (...)\u001b[0m\n\u001b[0;32m   1476\u001b[0m \u001b[39m    False\u001b[39;00m\n\u001b[0;32m   1477\u001b[0m \u001b[39m    \"\"\"\u001b[39;00m\n\u001b[0;32m   1478\u001b[0m     dtype \u001b[39m=\u001b[39m \u001b[39mgetattr\u001b[39m(arr_or_dtype, \u001b[39m\"\u001b[39m\u001b[39mdtype\u001b[39m\u001b[39m\"\u001b[39m, arr_or_dtype)\n",
      "\u001b[1;31mKeyboardInterrupt\u001b[0m: "
     ]
    }
   ],
   "source": [
    "df=pd.read_csv(OUTDIR+'TmaxD_1971_2021.csv')\n"
   ]
  },
  {
   "cell_type": "code",
   "execution_count": null,
   "metadata": {},
   "outputs": [],
   "source": []
  }
 ],
 "metadata": {
  "kernelspec": {
   "display_name": "climada_env_3.9",
   "language": "python",
   "name": "python3"
  },
  "language_info": {
   "codemirror_mode": {
    "name": "ipython",
    "version": 3
   },
   "file_extension": ".py",
   "mimetype": "text/x-python",
   "name": "python",
   "nbconvert_exporter": "python",
   "pygments_lexer": "ipython3",
   "version": "3.9.16"
  },
  "orig_nbformat": 4
 },
 "nbformat": 4,
 "nbformat_minor": 2
}
